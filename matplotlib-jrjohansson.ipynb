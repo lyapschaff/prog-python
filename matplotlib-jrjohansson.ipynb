{
 "cells": [
  {
   "cell_type": "markdown",
   "metadata": {},
   "source": [
    "## Matplotlib lecture\n",
    "\n",
    "\n",
    "Based mostly on:   \n",
    "https://nbviewer.jupyter.org/github/jrjohansson/scientific-python-lectures/blob/master/Lecture-4-Matplotlib.ipynb   \n",
    "http://github.com/jrjohansson/scientific-python-lectures   "
   ]
  },
  {
   "cell_type": "code",
   "execution_count": 1,
   "metadata": {},
   "outputs": [],
   "source": [
    "import numpy as np\n",
    "import matplotlib\n",
    "import matplotlib.pyplot as plt\n",
    "# don't display plots in new windows:\n",
    "%matplotlib inline"
   ]
  },
  {
   "cell_type": "code",
   "execution_count": 2,
   "metadata": {},
   "outputs": [
    {
     "data": {
      "text/plain": [
       "array([0. , 0.5, 1. , 1.5, 2. , 2.5, 3. , 3.5, 4. , 4.5, 5. ])"
      ]
     },
     "execution_count": 2,
     "metadata": {},
     "output_type": "execute_result"
    }
   ],
   "source": [
    "x = np.linspace(0,5,11); x"
   ]
  },
  {
   "cell_type": "code",
   "execution_count": 3,
   "metadata": {},
   "outputs": [],
   "source": [
    "y = x**2"
   ]
  },
  {
   "cell_type": "markdown",
   "metadata": {},
   "source": [
    "---\n",
    "\n",
    "Using the **MATLAB-like** plotting API (on just this one plot; OO from then on)"
   ]
  },
  {
   "cell_type": "code",
   "execution_count": 4,
   "metadata": {},
   "outputs": [
    {
     "data": {
      "image/png": "[encoded data removed]",
      "text/plain": [
       "<Figure size 432x288 with 1 Axes>"
      ]
     },
     "metadata": {
      "needs_background": "light"
     },
     "output_type": "display_data"
    }
   ],
   "source": [
    "plt.figure()\n",
    "plt.plot(x, y, 'r')\n",
    "plt.xlabel('X'); plt.ylabel('Y'); plt.title('Hi')\n",
    "plt.show()"
   ]
  },
  {
   "cell_type": "markdown",
   "metadata": {},
   "source": [
    "---\n",
    "### Object-oriented API"
   ]
  },
  {
   "cell_type": "code",
   "execution_count": 5,
   "metadata": {},
   "outputs": [
    {
     "data": {
      "text/plain": [
       "Text(0.5, 1.0, 'Hi')"
      ]
     },
     "execution_count": 5,
     "metadata": {},
     "output_type": "execute_result"
    },
    {
     "data": {
      "image/png": "[encoded data removed]",
      "text/plain": [
       "<Figure size 432x288 with 1 Axes>"
      ]
     },
     "metadata": {
      "needs_background": "light"
     },
     "output_type": "display_data"
    }
   ],
   "source": [
    "fig1 = plt.figure()\n",
    "axes = fig1.add_axes([0.1, 0.1, 0.8, 0.8]) # left, bottom; width, height\n",
    "axes.plot(x,y)\n",
    "axes.set_xlabel('X')\n",
    "axes.set_ylabel('Y')\n",
    "axes.set_title('Hi')"
   ]
  },
  {
   "cell_type": "code",
   "execution_count": 8,
   "metadata": {},
   "outputs": [
    {
     "data": {
      "image/png": "[encoded data removed]",
      "text/plain": [
       "<Figure size 432x288 with 2 Axes>"
      ]
     },
     "metadata": {
      "needs_background": "light"
     },
     "output_type": "display_data"
    }
   ],
   "source": [
    "fig2 = plt.figure()\n",
    "\n",
    "axes1 = fig2.add_axes([0.1, 0.1, 0.8, 0.8]) # main axes\n",
    "axes2 = fig2.add_axes([0.2, 0.55, 0.4, 0.3]) # inset axes\n",
    "\n",
    "# main fig.\n",
    "axes1.plot(x,y,'r')\n",
    "axes1.set_xlabel('X')\n",
    "axes1.set_ylabel('Y')\n",
    "\n",
    "# inset\n",
    "axes2.plot(y,x,'g')\n",
    "axes2.set_xlabel('y')\n",
    "axes2.set_ylabel('x');"
   ]
  },
  {
   "cell_type": "code",
   "execution_count": null,
   "metadata": {},
   "outputs": [],
   "source": []
  },
  {
   "cell_type": "code",
   "execution_count": null,
   "metadata": {},
   "outputs": [],
   "source": []
  },
  {
   "cell_type": "markdown",
   "metadata": {},
   "source": [
    "# Plots settings by Manuel Schrauth\n",
    "plt.rcParams['axes.linewidth'] = 0.7\n",
    "plt.rcParams['font.family'] = 'serif'\n",
    "plt.rcParams['font.size'] = 9\n",
    "plt.rcParams['axes.labelsize'] = 9\n",
    "plt.rcParams['legend.fontsize'] = 8\n",
    "plt.rcParams['xtick.labelsize'] = 8\n",
    "plt.rcParams['ytick.labelsize'] = 8\n",
    "#plt.rcParams['figure.constrained_layout.use'] = True\n",
    "plt.rcParams['text.usetex'] = True\n",
    "#plt.rcParams['text.latex.preamble'] = '\\usepackage{lmodern}'\n",
    "inches_per_pt = 1.0/72.27\n",
    "width = 200.0*inches_per_pt #246.0"
   ]
  },
  {
   "cell_type": "markdown",
   "metadata": {},
   "source": [
    "fig20 = plt.figure(figsize=(width, width/1.57), dpi=150)\n",
    "axes = fig20.add_axes([0, 0, 1, 1]) # left, bottom; width, height\n",
    "axes.plot(x,y)\n",
    "axes.set_xlabel('$x$')\n",
    "axes.set_ylabel('$y$')\n",
    "axes.set_title('Hi');\n",
    "##plt.tight_layout(pad=0)\n",
    "#plt.savefig(\"fig.pdf\",bbox_inches='tight')"
   ]
  },
  {
   "cell_type": "code",
   "execution_count": null,
   "metadata": {},
   "outputs": [],
   "source": []
  }
 ],
 "metadata": {
  "kernelspec": {
   "display_name": "Python 3",
   "language": "python",
   "name": "python3"
  },
  "language_info": {
   "codemirror_mode": {
    "name": "ipython",
    "version": 3
   },
   "file_extension": ".py",
   "mimetype": "text/x-python",
   "name": "python",
   "nbconvert_exporter": "python",
   "pygments_lexer": "ipython3",
   "version": "3.6.12"
  }
 },
 "nbformat": 4,
 "nbformat_minor": 2
}
